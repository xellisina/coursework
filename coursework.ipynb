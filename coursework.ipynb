{
 "cells": [
  {
   "cell_type": "code",
   "execution_count": 112,
   "id": "fbf9e573",
   "metadata": {},
   "outputs": [
    {
     "name": "stdout",
     "output_type": "stream",
     "text": [
      "<class 'pandas.core.frame.DataFrame'>\n",
      "RangeIndex: 284807 entries, 0 to 284806\n",
      "Data columns (total 31 columns):\n",
      " #   Column  Non-Null Count   Dtype  \n",
      "---  ------  --------------   -----  \n",
      " 0   Time    284807 non-null  float64\n",
      " 1   V1      284807 non-null  float64\n",
      " 2   V2      284807 non-null  float64\n",
      " 3   V3      284807 non-null  float64\n",
      " 4   V4      284807 non-null  float64\n",
      " 5   V5      284807 non-null  float64\n",
      " 6   V6      284807 non-null  float64\n",
      " 7   V7      284807 non-null  float64\n",
      " 8   V8      284807 non-null  float64\n",
      " 9   V9      284807 non-null  float64\n",
      " 10  V10     284807 non-null  float64\n",
      " 11  V11     284807 non-null  float64\n",
      " 12  V12     284807 non-null  float64\n",
      " 13  V13     284807 non-null  float64\n",
      " 14  V14     284807 non-null  float64\n",
      " 15  V15     284807 non-null  float64\n",
      " 16  V16     284807 non-null  float64\n",
      " 17  V17     284807 non-null  float64\n",
      " 18  V18     284807 non-null  float64\n",
      " 19  V19     284807 non-null  float64\n",
      " 20  V20     284807 non-null  float64\n",
      " 21  V21     284807 non-null  float64\n",
      " 22  V22     284807 non-null  float64\n",
      " 23  V23     284807 non-null  float64\n",
      " 24  V24     284807 non-null  float64\n",
      " 25  V25     284807 non-null  float64\n",
      " 26  V26     284807 non-null  float64\n",
      " 27  V27     284807 non-null  float64\n",
      " 28  V28     284807 non-null  float64\n",
      " 29  Amount  284807 non-null  float64\n",
      " 30  Class   284807 non-null  int64  \n",
      "dtypes: float64(30), int64(1)\n",
      "memory usage: 67.4 MB\n",
      "               Time            V1            V2            V3            V4  \\\n",
      "count 284807.000000 284807.000000 284807.000000 284807.000000 284807.000000   \n",
      "mean   94813.859575      0.000000      0.000000     -0.000000      0.000000   \n",
      "std    47488.145955      1.958696      1.651309      1.516255      1.415869   \n",
      "min        0.000000    -56.407510    -72.715728    -48.325589     -5.683171   \n",
      "25%    54201.500000     -0.920373     -0.598550     -0.890365     -0.848640   \n",
      "50%    84692.000000      0.018109      0.065486      0.179846     -0.019847   \n",
      "75%   139320.500000      1.315642      0.803724      1.027196      0.743341   \n",
      "max   172792.000000      2.454930     22.057729      9.382558     16.875344   \n",
      "\n",
      "                 V5            V6            V7            V8            V9  \\\n",
      "count 284807.000000 284807.000000 284807.000000 284807.000000 284807.000000   \n",
      "mean       0.000000      0.000000     -0.000000      0.000000     -0.000000   \n",
      "std        1.380247      1.332271      1.237094      1.194353      1.098632   \n",
      "min     -113.743307    -26.160506    -43.557242    -73.216718    -13.434066   \n",
      "25%       -0.691597     -0.768296     -0.554076     -0.208630     -0.643098   \n",
      "50%       -0.054336     -0.274187      0.040103      0.022358     -0.051429   \n",
      "75%        0.611926      0.398565      0.570436      0.327346      0.597139   \n",
      "max       34.801666     73.301626    120.589494     20.007208     15.594995   \n",
      "\n",
      "       ...           V21           V22           V23           V24  \\\n",
      "count  ... 284807.000000 284807.000000 284807.000000 284807.000000   \n",
      "mean   ...      0.000000     -0.000000      0.000000      0.000000   \n",
      "std    ...      0.734524      0.725702      0.624460      0.605647   \n",
      "min    ...    -34.830382    -10.933144    -44.807735     -2.836627   \n",
      "25%    ...     -0.228395     -0.542350     -0.161846     -0.354586   \n",
      "50%    ...     -0.029450      0.006782     -0.011193      0.040976   \n",
      "75%    ...      0.186377      0.528554      0.147642      0.439527   \n",
      "max    ...     27.202839     10.503090     22.528412      4.584549   \n",
      "\n",
      "                V25           V26           V27           V28        Amount  \\\n",
      "count 284807.000000 284807.000000 284807.000000 284807.000000 284807.000000   \n",
      "mean       0.000000      0.000000     -0.000000     -0.000000     88.349619   \n",
      "std        0.521278      0.482227      0.403632      0.330083    250.120109   \n",
      "min      -10.295397     -2.604551    -22.565679    -15.430084      0.000000   \n",
      "25%       -0.317145     -0.326984     -0.070840     -0.052960      5.600000   \n",
      "50%        0.016594     -0.052139      0.001342      0.011244     22.000000   \n",
      "75%        0.350716      0.240952      0.091045      0.078280     77.165000   \n",
      "max        7.519589      3.517346     31.612198     33.847808  25691.160000   \n",
      "\n",
      "              Class  \n",
      "count 284807.000000  \n",
      "mean       0.001727  \n",
      "std        0.041527  \n",
      "min        0.000000  \n",
      "25%        0.000000  \n",
      "50%        0.000000  \n",
      "75%        0.000000  \n",
      "max        1.000000  \n",
      "\n",
      "[8 rows x 31 columns]\n",
      "Time      0\n",
      "V1        0\n",
      "V2        0\n",
      "V3        0\n",
      "V4        0\n",
      "V5        0\n",
      "V6        0\n",
      "V7        0\n",
      "V8        0\n",
      "V9        0\n",
      "V10       0\n",
      "V11       0\n",
      "V12       0\n",
      "V13       0\n",
      "V14       0\n",
      "V15       0\n",
      "V16       0\n",
      "V17       0\n",
      "V18       0\n",
      "V19       0\n",
      "V20       0\n",
      "V21       0\n",
      "V22       0\n",
      "V23       0\n",
      "V24       0\n",
      "V25       0\n",
      "V26       0\n",
      "V27       0\n",
      "V28       0\n",
      "Amount    0\n",
      "Class     0\n",
      "dtype: int64\n",
      "Class distribution:\n",
      "Class\n",
      "0    284315\n",
      "1       492\n",
      "Name: count, dtype: int64\n"
     ]
    },
    {
     "data": {
      "image/png": "[encoded data removed]",
      "text/plain": [
       "<Figure size 640x480 with 1 Axes>"
      ]
     },
     "metadata": {},
     "output_type": "display_data"
    }
   ],
   "source": [
    "import pandas as pd\n",
    "import numpy as np\n",
    "import matplotlib.pyplot as plt\n",
    "import seaborn as sns\n",
    "\n",
    "from sklearn.model_selection import train_test_split, GridSearchCV, cross_val_score\n",
    "from sklearn.preprocessing import StandardScaler\n",
    "from sklearn.metrics import classification_report, confusion_matrix, roc_auc_score, roc_curve\n",
    "from sklearn.pipeline import Pipeline\n",
    "\n",
    "from sklearn.linear_model import LogisticRegression\n",
    "from sklearn.ensemble import RandomForestClassifier, GradientBoostingClassifier\n",
    "from sklearn.svm import SVC\n",
    "from sklearn.neighbors import KNeighborsClassifier\n",
    "from sklearn.naive_bayes import GaussianNB\n",
    "from xgboost import XGBClassifier\n",
    "from lightgbm import LGBMClassifier\n",
    "\n",
    "import time\n",
    "\n",
    "# Загрузка данных\n",
    "df = pd.read_csv(\"creditcard.csv\")\n",
    "\n",
    "# Предварительный анализ\n",
    "df.info()\n",
    "print(df.describe())\n",
    "print(df.isnull().sum())\n",
    "\n",
    "# Балансировка классов\n",
    "print(\"Class distribution:\")\n",
    "print(df['Class'].value_counts())\n",
    "\n",
    "# Визуализация распределения классов\n",
    "sns.countplot(x='Class', data=df)\n",
    "plt.title('Class Distribution')\n",
    "plt.show()\n"
   ]
  },
  {
   "cell_type": "code",
   "execution_count": null,
   "id": "29c8dad5",
   "metadata": {},
   "outputs": [],
   "source": [
    "print(f\"Дубликаты: {df.duplicated().sum()}\")\n",
    "df = df.drop_duplicates()\n"
   ]
  },
  {
   "cell_type": "markdown",
   "id": "5bb5c52e",
   "metadata": {},
   "source": [
    "График распределения мошеннических операций по времени"
   ]
  },
  {
   "cell_type": "code",
   "execution_count": null,
   "id": "7bb337f2",
   "metadata": {},
   "outputs": [],
   "source": [
    "import seaborn as sns\n",
    "import matplotlib.pyplot as plt\n",
    "\n",
    "# Создаем график\n",
    "plt.figure(figsize=(12, 6))\n",
    "ax = sns.histplot(df[df['Class'] == 1]['Time'], bins=50, kde=True, color='red')\n",
    "\n",
    "# Добавляем подписи\n",
    "plt.title('Распределение мошеннических операций по времени', fontsize=14, pad=20)\n",
    "plt.xlabel('Время от первой транзакции (секунды)', fontsize=12)\n",
    "plt.ylabel('Количество мошеннических операций', fontsize=12)\n",
    "\n",
    "# Добавляем сетку для лучшей читаемости\n",
    "plt.grid(True, linestyle='--', alpha=0.3)\n",
    "\n",
    "# Показываем график\n",
    "plt.tight_layout()\n",
    "plt.show()"
   ]
  },
  {
   "cell_type": "markdown",
   "id": "b52f4bec",
   "metadata": {},
   "source": [
    "График распределения нормальных операций по времени"
   ]
  },
  {
   "cell_type": "code",
   "execution_count": null,
   "id": "d1622699",
   "metadata": {},
   "outputs": [],
   "source": [
    "import seaborn as sns\n",
    "import matplotlib.pyplot as plt\n",
    "\n",
    "# Создаем график\n",
    "plt.figure(figsize=(12, 6))\n",
    "ax = sns.histplot(df[df['Class'] == 0]['Time'], bins=50, kde=True, color='blue')\n",
    "\n",
    "# Добавляем подписи\n",
    "plt.title('Распределение нормальных операций по времени', fontsize=14, pad=20)\n",
    "plt.xlabel('Время от первой транзакции (секунды)', fontsize=12)\n",
    "plt.ylabel('Количество нормальных операций', fontsize=12)\n",
    "\n",
    "# Добавляем сетку для лучшей читаемости\n",
    "plt.grid(True, linestyle='--', alpha=0.3)\n",
    "\n",
    "# Показываем график\n",
    "plt.tight_layout()\n",
    "plt.show()"
   ]
  },
  {
   "cell_type": "markdown",
   "id": "8a3a8805",
   "metadata": {},
   "source": [
    "Нормализация"
   ]
  },
  {
   "cell_type": "code",
   "execution_count": 113,
   "id": "19f249b3",
   "metadata": {},
   "outputs": [],
   "source": [
    "# Масштабирование признака 'Amount'\n",
    "df['normAmount'] = StandardScaler().fit_transform(df['Amount'].values.reshape(-1,1))\n",
    "df['normTime'] = StandardScaler().fit_transform(df['Time'].values.reshape(-1,1))\n",
    "df.drop(['Amount', 'Time'], axis=1, inplace=True)\n",
    "# df.drop(['Amount'], axis=1, inplace=True)\n",
    "\n",
    "# Разделение на признаки и целевую переменную\n",
    "X = df.drop('Class', axis=1)\n",
    "y = df['Class']\n",
    "\n",
    "#print(df[['normAmount']].describe())"
   ]
  },
  {
   "cell_type": "markdown",
   "id": "bf4e8286",
   "metadata": {},
   "source": [
    "Визуализация Amount до и после масштабирования"
   ]
  },
  {
   "cell_type": "code",
   "execution_count": null,
   "id": "15146c46",
   "metadata": {},
   "outputs": [],
   "source": [
    "import seaborn as sns\n",
    "sns.histplot(df[df['Class'] == 1]['Amount'], bins=50)"
   ]
  },
  {
   "cell_type": "code",
   "execution_count": null,
   "id": "e5147d96",
   "metadata": {},
   "outputs": [],
   "source": [
    "plt.figure(figsize=(10, 5))\n",
    "sns.histplot(df['Amount'], bins=100, kde=True)\n",
    "plt.title('Распределение суммы транзакций (Amount)')\n",
    "plt.xlabel('Сумма')\n",
    "plt.ylabel('Количество')\n",
    "plt.grid(True)\n",
    "plt.show()\n"
   ]
  },
  {
   "cell_type": "code",
   "execution_count": 114,
   "id": "03fcb4b0",
   "metadata": {},
   "outputs": [
    {
     "data": {
      "image/png": "[encoded data removed]",
      "text/plain": [
       "<Figure size 1000x500 with 1 Axes>"
      ]
     },
     "metadata": {},
     "output_type": "display_data"
    }
   ],
   "source": [
    "plt.figure(figsize=(10, 5))\n",
    "sns.histplot(df['normAmount'], bins=100, kde=True)\n",
    "plt.title('Распределение суммы транзакций (Amount)')\n",
    "plt.xlabel('Сумма')\n",
    "plt.ylabel('Количество')\n",
    "plt.grid(True)\n",
    "plt.show()"
   ]
  },
  {
   "cell_type": "markdown",
   "id": "df2e18be",
   "metadata": {},
   "source": [
    "Матрица корреляций между признаками"
   ]
  },
  {
   "cell_type": "code",
   "execution_count": null,
   "id": "e8685e5e",
   "metadata": {},
   "outputs": [],
   "source": [
    "plt.figure(figsize=(14, 10))\n",
    "corr_matrix = df.corr()\n",
    "print(corr_matrix)\n",
    "sns.heatmap(corr_matrix, cmap='coolwarm', center=0, linewidths=0.5,vmax=0.5)\n",
    "plt.title('Матрица корреляций между признаками')\n",
    "plt.show()\n"
   ]
  },
  {
   "cell_type": "markdown",
   "id": "6003d4c1",
   "metadata": {},
   "source": [
    "Разделение на обучающую и тестовую выборки"
   ]
  },
  {
   "cell_type": "code",
   "execution_count": 99,
   "id": "9e160b94",
   "metadata": {},
   "outputs": [],
   "source": [
    "X_train, X_test, y_train, y_test = train_test_split(\n",
    "    X, y, test_size=0.3, stratify=y, random_state=42\n",
    ")"
   ]
  },
  {
   "cell_type": "code",
   "execution_count": null,
   "id": "2d26565d",
   "metadata": {},
   "outputs": [],
   "source": [
    "from sklearn.ensemble import RandomForestClassifier\n",
    "model = RandomForestClassifier()\n",
    "model.fit(X_train, y_train)\n",
    "print(model.feature_importances_)"
   ]
  },
  {
   "cell_type": "code",
   "execution_count": null,
   "id": "c6c6736f",
   "metadata": {},
   "outputs": [],
   "source": [
    "import pandas as pd\n",
    "import matplotlib.pyplot as plt\n",
    "\n",
    "# Создаем DataFrame с важностью признаков\n",
    "feature_importance = pd.DataFrame({\n",
    "    'Признак': X_train.columns,  # Названия столбцов из ваших данных\n",
    "    'Важность': model.feature_importances_\n",
    "})\n",
    "\n",
    "# Сортируем по убыванию важности\n",
    "feature_importance = feature_importance.sort_values('Важность', ascending=False)\n",
    "\n",
    "# Настройки отображения для Pandas (чтобы видеть все строки)\n",
    "pd.set_option('display.max_rows', None)  # Показать все строки\n",
    "pd.set_option('display.float_format', '{:.6f}'.format)  # Формат чисел\n",
    "\n",
    "# Выводим полную таблицу\n",
    "print(\"╒═══════════╤════════════╕\")\n",
    "print(\"│ Признак   │ Важность   │\")\n",
    "print(\"╞═══════════╪════════════╡\")\n",
    "for _, row in feature_importance.iterrows():\n",
    "    print(f\"│ {row['Признак']:9} │ {row['Важность']:.6f} │\")\n",
    "print(\"╘═══════════╧════════════╛\")\n",
    "\n",
    "# Визуализация для всех признаков\n",
    "plt.figure(figsize=(8, 12))\n",
    "plt.barh(feature_importance['Признак'], feature_importance['Важность'])\n",
    "plt.xlabel('Уровень важности')\n",
    "plt.title('Важность всех признаков в RandomForest')\n",
    "plt.gca().invert_yaxis()  # Самый важный признак - сверху\n",
    "plt.tight_layout()\n",
    "plt.show()"
   ]
  },
  {
   "cell_type": "markdown",
   "id": "99181f59",
   "metadata": {},
   "source": [
    "Метод для обучения и сбора метрик модели"
   ]
  },
  {
   "cell_type": "code",
   "execution_count": 100,
   "id": "baedb7ce",
   "metadata": {},
   "outputs": [],
   "source": [
    "from sklearn.metrics import classification_report, confusion_matrix, roc_auc_score, roc_curve\n",
    "import time\n",
    "\n",
    "results = {}\n",
    "\n",
    "def evaluate_model(model, X_train = X_train, X_test=X_test, y_train=y_train, y_test=y_test, model_name=\"Model\"):\n",
    "    start = time.time()\n",
    "    model.fit(X_train, y_train)\n",
    "    train_time = time.time() - start\n",
    "\n",
    "    y_pred = model.predict(X_test)\n",
    "    y_proba = model.predict_proba(X_test)[:, 1]\n",
    "\n",
    "    print(f\"\\nModel: {model_name}\")\n",
    "    print(\"Время обучения:\", round(train_time, 2), \"секунд\")\n",
    "    print(\"Classification Report:\\n\", classification_report(y_test, y_pred))\n",
    "    print(\"Confusion Matrix:\\n\", confusion_matrix(y_test, y_pred))\n",
    "    auc = roc_auc_score(y_test, y_proba) if y_proba is not None else 'N/A'\n",
    "    print(\"ROC AUC Score:\", auc) #round(roc_auc_score(y_test, y_proba), 4))\n",
    "\n",
    "    # ROC кривая\n",
    "    # fpr, tpr, thresholds = roc_curve(y_test, y_proba)\n",
    "    # plt.plot(fpr, tpr, label=f'{model_name} (AUC={roc_auc_score(y_test, y_proba):.2f})')\n",
    "    cm = confusion_matrix(y_test, y_pred)\n",
    "    sns.heatmap(cm, annot=True, fmt='d') \n",
    "\n",
    "    results[model_name] = {\n",
    "        'model': model,\n",
    "        'auc': auc,\n",
    "        'train_time': train_time\n",
    "    }"
   ]
  },
  {
   "cell_type": "code",
   "execution_count": 109,
   "id": "6c56040d",
   "metadata": {},
   "outputs": [],
   "source": [
    "from sklearn.metrics import classification_report, confusion_matrix, roc_auc_score\n",
    "import seaborn as sns\n",
    "import matplotlib.pyplot as plt\n",
    "import time\n",
    "\n",
    "results = {}\n",
    "\n",
    "def evaluate_model(model, \n",
    "                   X_train=X_train, X_test=X_test, \n",
    "                   y_train=y_train, y_test=y_test, \n",
    "                   model_name=\"Model\"):\n",
    "    print(\"=\"*60)\n",
    "    print(f\"🔍 Оценка модели: {model_name}\")\n",
    "    \n",
    "    # Фиксация времени обучения\n",
    "    start = time.time()\n",
    "    model.fit(X_train, y_train)\n",
    "    train_time = time.time() - start\n",
    "\n",
    "    # Предсказания\n",
    "    y_pred = model.predict(X_test)\n",
    "    try:\n",
    "        y_proba = model.predict_proba(X_test)[:, 1]\n",
    "        auc = round(roc_auc_score(y_test, y_proba), 4)\n",
    "    except:\n",
    "        y_proba = None\n",
    "        auc = 'N/A'\n",
    "\n",
    "    # Отчёт по метрикам\n",
    "    print(f\"Время обучения: {train_time:.2f} секунд\")\n",
    "    print(\"Classification Report:\\n\", classification_report(y_test, y_pred))\n",
    "    cm = confusion_matrix(y_test, y_pred)\n",
    "    print(\"Confusion Matrix:\\n\", cm)\n",
    "    print(\"ROC AUC Score:\", auc)\n",
    "\n",
    "    # Отображение параметров, если применимо\n",
    "    if hasattr(model, 'get_params'):\n",
    "        print(\"🔧 Параметры модели:\")\n",
    "        for k, v in model.get_params().items():\n",
    "            print(f\"   {k}: {v}\")\n",
    "    else:\n",
    "        print(\"ℹПараметры модели не отображаются (отсутствует метод get_params())\")\n",
    "\n",
    "    # Визуализация матрицы ошибок\n",
    "    plt.figure(figsize=(5, 4))\n",
    "    sns.heatmap(cm, annot=True, fmt='d', cmap='Blues')\n",
    "    plt.title(f'Матрица ошибок: {model_name}')\n",
    "    plt.xlabel('Предсказано')\n",
    "    plt.ylabel('Факт')\n",
    "    plt.show()\n",
    "\n",
    "    # Сохранение результатов\n",
    "    results[model_name] = {\n",
    "        'model': model,\n",
    "        'auc': auc,\n",
    "        'train_time': train_time,\n",
    "        'params': model.get_params() if hasattr(model, 'get_params') else None\n",
    "    }\n"
   ]
  },
  {
   "cell_type": "code",
   "execution_count": null,
   "id": "2cd5a5fa",
   "metadata": {},
   "outputs": [],
   "source": [
    "evaluate_model(LogisticRegression(max_iter=1000),model_name = 'Logistic Regression')"
   ]
  },
  {
   "cell_type": "code",
   "execution_count": null,
   "id": "52cfcff6",
   "metadata": {},
   "outputs": [],
   "source": [
    "evaluate_model(RandomForestClassifier(),model_name = 'Random Forest')"
   ]
  },
  {
   "cell_type": "code",
   "execution_count": null,
   "id": "234f9629",
   "metadata": {},
   "outputs": [],
   "source": [
    "evaluate_model( KNeighborsClassifier(),model_name = 'KNN')"
   ]
  },
  {
   "cell_type": "code",
   "execution_count": null,
   "id": "52d00311",
   "metadata": {},
   "outputs": [],
   "source": [
    "evaluate_model(SVC(probability=True),model_name = 'SVM')"
   ]
  },
  {
   "cell_type": "code",
   "execution_count": null,
   "id": "37115c7e",
   "metadata": {},
   "outputs": [],
   "source": [
    "evaluate_model( GaussianNB(),model_name = 'Naive Bayes')"
   ]
  },
  {
   "cell_type": "code",
   "execution_count": null,
   "id": "1490e400",
   "metadata": {},
   "outputs": [],
   "source": [
    "evaluate_model(  GradientBoostingClassifier(),model_name = 'Gradient Boosting')"
   ]
  },
  {
   "cell_type": "code",
   "execution_count": 110,
   "id": "058517f7",
   "metadata": {},
   "outputs": [
    {
     "name": "stdout",
     "output_type": "stream",
     "text": [
      "============================================================\n",
      "🔍 Оценка модели: XGBoost\n",
      "Время обучения: 0.62 секунд\n",
      "Classification Report:\n",
      "               precision    recall  f1-score   support\n",
      "\n",
      "           0       1.00      1.00      1.00     85295\n",
      "           1       0.94      0.76      0.84       148\n",
      "\n",
      "    accuracy                           1.00     85443\n",
      "   macro avg       0.97      0.88      0.92     85443\n",
      "weighted avg       1.00      1.00      1.00     85443\n",
      "\n",
      "Confusion Matrix:\n",
      " [[85288     7]\n",
      " [   36   112]]\n",
      "ROC AUC Score: 0.9286\n",
      "🔧 Параметры модели:\n",
      "   objective: binary:logistic\n",
      "   base_score: None\n",
      "   booster: None\n",
      "   callbacks: None\n",
      "   colsample_bylevel: None\n",
      "   colsample_bynode: None\n",
      "   colsample_bytree: None\n",
      "   device: None\n",
      "   early_stopping_rounds: None\n",
      "   enable_categorical: False\n",
      "   eval_metric: logloss\n",
      "   feature_types: None\n",
      "   feature_weights: None\n",
      "   gamma: None\n",
      "   grow_policy: None\n",
      "   importance_type: None\n",
      "   interaction_constraints: None\n",
      "   learning_rate: None\n",
      "   max_bin: None\n",
      "   max_cat_threshold: None\n",
      "   max_cat_to_onehot: None\n",
      "   max_delta_step: None\n",
      "   max_depth: None\n",
      "   max_leaves: None\n",
      "   min_child_weight: None\n",
      "   missing: nan\n",
      "   monotone_constraints: None\n",
      "   multi_strategy: None\n",
      "   n_estimators: None\n",
      "   n_jobs: None\n",
      "   num_parallel_tree: None\n",
      "   random_state: None\n",
      "   reg_alpha: None\n",
      "   reg_lambda: None\n",
      "   sampling_method: None\n",
      "   scale_pos_weight: None\n",
      "   subsample: None\n",
      "   tree_method: None\n",
      "   validate_parameters: None\n",
      "   verbosity: None\n"
     ]
    },
    {
     "data": {
      "image/png": "[encoded data removed]",
      "text/plain": [
       "<Figure size 500x400 with 2 Axes>"
      ]
     },
     "metadata": {},
     "output_type": "display_data"
    }
   ],
   "source": [
    "evaluate_model( XGBClassifier(eval_metric='logloss'),model_name = 'XGBoost')"
   ]
  },
  {
   "cell_type": "code",
   "execution_count": null,
   "id": "1aa7bfa5",
   "metadata": {},
   "outputs": [],
   "source": [
    "evaluate_model( LGBMClassifier(),model_name = 'LightGBM')"
   ]
  },
  {
   "cell_type": "code",
   "execution_count": null,
   "id": "f3bc6089",
   "metadata": {},
   "outputs": [],
   "source": [
    "# Визуализация ROC-кривых\n",
    "print(results)\n",
    "plt.figure(figsize=(10,8))\n",
    "for name, res in results.items():\n",
    "    model = res['model']\n",
    "    if hasattr(model, \"predict_proba\"):\n",
    "        y_proba = model.predict_proba(X_test)[:,1]\n",
    "        fpr, tpr, _ = roc_curve(y_test, y_proba)\n",
    "        plt.plot(fpr, tpr, label=f\"{name} (AUC={res['auc']:.2f})\")\n",
    "\n",
    "plt.plot([0, 1], [0, 1], 'k--')\n",
    "plt.title('ROC Curves')\n",
    "plt.xlabel('False Positive Rate')\n",
    "plt.ylabel('True Positive Rate')\n",
    "plt.legend()\n",
    "plt.grid()\n",
    "plt.show()"
   ]
  },
  {
   "cell_type": "markdown",
   "id": "82059928",
   "metadata": {},
   "source": [
    "Изменение и поиск оптимальных гиперпараметров для XGBClassifier"
   ]
  },
  {
   "cell_type": "code",
   "execution_count": 102,
   "id": "d3cecd35",
   "metadata": {},
   "outputs": [],
   "source": [
    "from xgboost import XGBClassifier\n",
    "from sklearn.model_selection import RandomizedSearchCV, StratifiedKFold\n",
    "from sklearn.metrics import roc_auc_score, classification_report, confusion_matrix\n",
    "import time"
   ]
  },
  {
   "cell_type": "code",
   "execution_count": 103,
   "id": "5ab8c9a6",
   "metadata": {},
   "outputs": [],
   "source": [
    "param_dist = {\n",
    "    'n_estimators': [100, 200, 300],\n",
    "    'max_depth': [3, 4, 5, 6],\n",
    "    'learning_rate': [0.01, 0.05, 0.1, 0.2],\n",
    "    'subsample': [0.6, 0.8, 1.0],\n",
    "    'colsample_bytree': [0.6, 0.8, 1.0],\n",
    "    'gamma': [0, 1, 5],\n",
    "    'scale_pos_weight': [1, 5, 10, 20]\n",
    "}"
   ]
  },
  {
   "cell_type": "code",
   "execution_count": 104,
   "id": "2063ccef",
   "metadata": {},
   "outputs": [
    {
     "name": "stdout",
     "output_type": "stream",
     "text": [
      "Fitting 5 folds for each of 300 candidates, totalling 1500 fits\n"
     ]
    },
    {
     "name": "stderr",
     "output_type": "stream",
     "text": [
      "c:\\Users\\xellis\\AppData\\Local\\Programs\\Python\\Python312\\Lib\\site-packages\\xgboost\\training.py:183: UserWarning: [14:44:22] WARNING: C:\\actions-runner\\_work\\xgboost\\xgboost\\src\\learner.cc:738: \n",
      "Parameters: { \"use_label_encoder\" } are not used.\n",
      "\n",
      "  bst.update(dtrain, iteration=i, fobj=obj)\n"
     ]
    },
    {
     "name": "stdout",
     "output_type": "stream",
     "text": [
      "\n",
      "Время подбора гиперпараметров: 498.64 сек\n"
     ]
    }
   ],
   "source": [
    "xgb = XGBClassifier(use_label_encoder=False, eval_metric='logloss', random_state=42, n_jobs=-1)\n",
    "\n",
    "cv = StratifiedKFold(n_splits=5, shuffle=True, random_state=42)\n",
    "\n",
    "search = RandomizedSearchCV(\n",
    "    estimator=xgb,\n",
    "    param_distributions=param_dist,\n",
    "    n_iter=300,\n",
    "    scoring='roc_auc',\n",
    "    cv=cv,\n",
    "    verbose=1,\n",
    "    n_jobs=-1,\n",
    "    random_state=42\n",
    ")\n",
    "\n",
    "start = time.time()\n",
    "search.fit(X_train, y_train)\n",
    "end = time.time()\n",
    "\n",
    "print(f\"\\nВремя подбора гиперпараметров: {end - start:.2f} сек\")\n"
   ]
  },
  {
   "cell_type": "code",
   "execution_count": 105,
   "id": "1941d725",
   "metadata": {},
   "outputs": [
    {
     "name": "stdout",
     "output_type": "stream",
     "text": [
      "Лучшие параметры: {'subsample': 0.6, 'scale_pos_weight': 5, 'n_estimators': 200, 'max_depth': 6, 'learning_rate': 0.2, 'gamma': 0, 'colsample_bytree': 0.6}\n",
      "\n",
      "Classification Report:\n",
      "               precision    recall  f1-score   support\n",
      "\n",
      "           0       1.00      1.00      1.00     85295\n",
      "           1       0.95      0.78      0.86       148\n",
      "\n",
      "    accuracy                           1.00     85443\n",
      "   macro avg       0.98      0.89      0.93     85443\n",
      "weighted avg       1.00      1.00      1.00     85443\n",
      "\n",
      "\n",
      "Confusion Matrix:\n",
      " [[85289     6]\n",
      " [   32   116]]\n",
      "\n",
      "ROC AUC Score: 0.9780\n"
     ]
    },
    {
     "data": {
      "text/plain": [
       "<Axes: >"
      ]
     },
     "execution_count": 105,
     "metadata": {},
     "output_type": "execute_result"
    },
    {
     "data": {
      "image/png": "[encoded data removed]",
      "text/plain": [
       "<Figure size 640x480 with 2 Axes>"
      ]
     },
     "metadata": {},
     "output_type": "display_data"
    }
   ],
   "source": [
    "best_model = search.best_estimator_\n",
    "\n",
    "# Предсказание\n",
    "y_pred = best_model.predict(X_test)\n",
    "y_proba = best_model.predict_proba(X_test)[:, 1]\n",
    "\n",
    "# Метрики\n",
    "print(\"Лучшие параметры:\", search.best_params_)\n",
    "print(\"\\nClassification Report:\\n\", classification_report(y_test, y_pred))\n",
    "print(\"\\nConfusion Matrix:\\n\", confusion_matrix(y_test, y_pred))\n",
    "print(f\"\\nROC AUC Score: {roc_auc_score(y_test, y_proba):.4f}\")\n",
    "\n",
    "from sklearn.metrics import confusion_matrix\n",
    "import numpy as np\n",
    "\n",
    "cm = confusion_matrix(y_test, y_pred)\n",
    "sns.heatmap(cm, annot=True, fmt='d') \n",
    "# ROC кривая\n",
    "#fpr, tpr, thresholds = roc_curve(y_test, y_proba)\n",
    "#plt.plot(fpr, tpr, label=f'{'XGBClassifier'} (AUC={roc_auc_score(y_test, y_proba):.2f})')"
   ]
  },
  {
   "cell_type": "code",
   "execution_count": null,
   "id": "737fc1e0",
   "metadata": {},
   "outputs": [],
   "source": []
  }
 ],
 "metadata": {
  "kernelspec": {
   "display_name": "Python 3",
   "language": "python",
   "name": "python3"
  },
  "language_info": {
   "codemirror_mode": {
    "name": "ipython",
    "version": 3
   },
   "file_extension": ".py",
   "mimetype": "text/x-python",
   "name": "python",
   "nbconvert_exporter": "python",
   "pygments_lexer": "ipython3",
   "version": "3.12.3"
  }
 },
 "nbformat": 4,
 "nbformat_minor": 5
}
